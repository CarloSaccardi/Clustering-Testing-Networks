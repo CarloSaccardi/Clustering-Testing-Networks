{
 "cells": [
  {
   "cell_type": "markdown",
   "metadata": {
    "id": "kmXixGyeAhC2"
   },
   "source": [
    "## Import packages"
   ]
  },
  {
   "cell_type": "code",
   "execution_count": 1,
   "metadata": {
    "colab": {
     "base_uri": "https://localhost:8080/"
    },
    "id": "Mx3QDxHOAhC6",
    "outputId": "2b78ff54-3e96-4d52-d984-00e266f0bf79"
   },
   "outputs": [
    {
     "name": "stdout",
     "output_type": "stream",
     "text": [
      "Defaulting to user installation because normal site-packages is not writeable\n",
      "Requirement already satisfied: numpy in /home/aravind/anaconda3/lib/python3.7/site-packages (from -r requirements.txt (line 1)) (1.18.1)\n",
      "Requirement already satisfied: torch in /home/aravind/anaconda3/lib/python3.7/site-packages (from -r requirements.txt (line 2)) (1.5.1)\n",
      "Requirement already satisfied: networkx in /home/aravind/anaconda3/lib/python3.7/site-packages (from -r requirements.txt (line 3)) (2.4)\n",
      "Collecting sklearn\n",
      "  Downloading sklearn-0.0.tar.gz (1.1 kB)\n",
      "Requirement already satisfied: scipy in /home/aravind/anaconda3/lib/python3.7/site-packages (from -r requirements.txt (line 5)) (1.4.1)\n",
      "Requirement already satisfied: cvxpy in /home/aravind/.local/lib/python3.7/site-packages (from -r requirements.txt (line 6)) (1.1.5)\n",
      "Collecting wwl\n",
      "  Downloading wwl-0.1.2-py3-none-any.whl (8.2 kB)\n",
      "Collecting pyunlocbox\n",
      "  Downloading pyunlocbox-0.5.2-py2.py3-none-any.whl (41 kB)\n",
      "\u001b[K     |████████████████████████████████| 41 kB 738 kB/s eta 0:00:011\n",
      "\u001b[?25hCollecting graspologic\n",
      "  Downloading graspologic-0.3.0.tar.gz (5.1 MB)\n",
      "\u001b[K     |████████████████████████████████| 5.1 MB 4.8 MB/s eta 0:00:01\n",
      "\u001b[?25h  Installing build dependencies ... \u001b[?25ldone\n",
      "\u001b[?25h  Getting requirements to build wheel ... \u001b[?25ldone\n",
      "\u001b[?25h  Installing backend dependencies ... \u001b[?25ldone\n",
      "\u001b[?25h    Preparing wheel metadata ... \u001b[?25ldone\n",
      "\u001b[?25hRequirement already satisfied: future in /home/aravind/anaconda3/lib/python3.7/site-packages (from torch->-r requirements.txt (line 2)) (0.18.2)\n",
      "Requirement already satisfied: decorator>=4.3.0 in /home/aravind/anaconda3/lib/python3.7/site-packages (from networkx->-r requirements.txt (line 3)) (4.4.1)\n",
      "Requirement already satisfied: scikit-learn in /home/aravind/anaconda3/lib/python3.7/site-packages (from sklearn->-r requirements.txt (line 4)) (0.22.1)\n",
      "Requirement already satisfied: osqp>=0.4.1 in /home/aravind/.local/lib/python3.7/site-packages (from cvxpy->-r requirements.txt (line 6)) (0.6.1)\n",
      "Requirement already satisfied: scs>=1.1.5 in /home/aravind/.local/lib/python3.7/site-packages (from cvxpy->-r requirements.txt (line 6)) (2.1.2)\n",
      "Requirement already satisfied: ecos>=2 in /home/aravind/.local/lib/python3.7/site-packages (from cvxpy->-r requirements.txt (line 6)) (2.0.7.post1)\n",
      "Collecting POT\n",
      "  Downloading POT-0.7.0-cp37-cp37m-manylinux2010_x86_64.whl (430 kB)\n",
      "\u001b[K     |████████████████████████████████| 430 kB 26.4 MB/s eta 0:00:01\n",
      "\u001b[?25hCollecting python-igraph\n",
      "  Downloading python_igraph-0.9.6-cp37-cp37m-manylinux2010_x86_64.whl (3.2 MB)\n",
      "\u001b[K     |████████████████████████████████| 3.2 MB 5.5 MB/s eta 0:00:01\n",
      "\u001b[?25hRequirement already satisfied: Cython in /home/aravind/anaconda3/lib/python3.7/site-packages (from wwl->-r requirements.txt (line 7)) (0.29.15)\n",
      "Requirement already satisfied: matplotlib<=3.3.0,>=3.0.0 in /home/aravind/anaconda3/lib/python3.7/site-packages (from graspologic->-r requirements.txt (line 9)) (3.1.3)\n",
      "Collecting joblib>=0.17.0\n",
      "  Downloading joblib-1.0.1-py3-none-any.whl (303 kB)\n",
      "\u001b[K     |████████████████████████████████| 303 kB 9.2 MB/s eta 0:00:01\n",
      "\u001b[?25hCollecting seaborn>=0.11.0\n",
      "  Downloading seaborn-0.11.2-py3-none-any.whl (292 kB)\n",
      "\u001b[K     |████████████████████████████████| 292 kB 15.6 MB/s eta 0:00:01\n",
      "\u001b[?25hCollecting beartype>=0.7.1\n",
      "  Downloading beartype-0.8.1-py3-none-any.whl (457 kB)\n",
      "\u001b[K     |████████████████████████████████| 457 kB 10.1 MB/s eta 0:00:01\n",
      "\u001b[?25hCollecting anytree>=2.8.0\n",
      "  Downloading anytree-2.8.0-py2.py3-none-any.whl (41 kB)\n",
      "\u001b[K     |████████████████████████████████| 41 kB 1.1 MB/s  eta 0:00:01\n",
      "\u001b[?25hCollecting umap-learn>=0.4.6\n",
      "  Downloading umap-learn-0.5.1.tar.gz (80 kB)\n",
      "\u001b[K     |████████████████████████████████| 80 kB 6.1 MB/s  eta 0:00:01\n",
      "\u001b[?25hCollecting gensim<=3.9.0,>=3.8.0\n",
      "  Downloading gensim-3.8.3-cp37-cp37m-manylinux1_x86_64.whl (24.2 MB)\n",
      "\u001b[K     |████████████████████████████████| 24.2 MB 10.2 MB/s eta 0:00:01\n",
      "\u001b[31mERROR: Could not find a version that satisfies the requirement graspologic-native>=1.0.0 (from graspologic->-r requirements.txt (line 9)) (from versions: 0.1.0.dev20201102342057300, 0.1.0.dev20201102342315507, 0.1.0.dev20201102342384736, 0.1.0.dev20201104345884402, 0.1.0.dev20201104345947520, 0.1.0)\u001b[0m\n",
      "\u001b[31mERROR: No matching distribution found for graspologic-native>=1.0.0 (from graspologic->-r requirements.txt (line 9))\u001b[0m\n",
      "\u001b[?25h"
     ]
    }
   ],
   "source": [
    "!pip install -r requirements.txt"
   ]
  },
  {
   "cell_type": "code",
   "execution_count": 43,
   "metadata": {
    "id": "XdT8mhK9AhC8"
   },
   "outputs": [],
   "source": [
    "import numpy as np\n",
    "import torch\n",
    "from utils import load_graph, download_datasets, data_simulation\n",
    "\n",
    "from NCLM import simulate_nclm\n",
    "from DSC_SSDP import simulate_histogram\n",
    "from WWLGK import simulate_wwlgk\n",
    "from NCMMD import simulate_ncmmd\n",
    "from GNTK import simulate_gntk\n",
    "\n",
    "from two_sample_test import bootstraping"
   ]
  },
  {
   "cell_type": "markdown",
   "metadata": {
    "id": "gMPI2qpMAhC8"
   },
   "source": [
    "## Download and load real datasets"
   ]
  },
  {
   "cell_type": "code",
   "execution_count": 3,
   "metadata": {
    "id": "r9EXslqbAhC9"
   },
   "outputs": [],
   "source": [
    "download_datasets()"
   ]
  },
  {
   "cell_type": "code",
   "execution_count": 4,
   "metadata": {
    "colab": {
     "base_uri": "https://localhost:8080/",
     "height": 350
    },
    "id": "FuuzCGrsAhC9",
    "outputId": "0cbf952b-4da8-47f6-cb29-59870a44fb9d"
   },
   "outputs": [
    {
     "name": "stdout",
     "output_type": "stream",
     "text": [
      "Loading graph dataset: KKI\n",
      "Loaded and the total number of graphs are  7\n",
      "max num of nodes is  90\n",
      "total graphs  7\n",
      "histogram of number of nodes in  KKI\n"
     ]
    },
    {
     "data": {
      "image/png": "[encoded data removed]",
      "text/plain": [
       "<Figure size 432x288 with 1 Axes>"
      ]
     },
     "metadata": {
      "needs_background": "light",
      "tags": []
     },
     "output_type": "display_data"
    }
   ],
   "source": [
    "kki = load_graph(min_num_nodes=60, name='KKI')"
   ]
  },
  {
   "cell_type": "code",
   "execution_count": 5,
   "metadata": {
    "colab": {
     "base_uri": "https://localhost:8080/",
     "height": 350
    },
    "id": "6CdkpTZRAhC9",
    "outputId": "1d967eef-b2c5-42cd-843e-d6b4d673a688"
   },
   "outputs": [
    {
     "name": "stdout",
     "output_type": "stream",
     "text": [
      "Loading graph dataset: PROTEINS\n",
      "Loaded and the total number of graphs are  7\n",
      "max num of nodes is  620\n",
      "total graphs  7\n",
      "histogram of number of nodes in  PROTEINS\n"
     ]
    },
    {
     "data": {
      "image/png": "[encoded data removed]",
      "text/plain": [
       "<Figure size 432x288 with 1 Axes>"
      ]
     },
     "metadata": {
      "needs_background": "light",
      "tags": []
     },
     "output_type": "display_data"
    }
   ],
   "source": [
    "proteins = load_graph(min_num_nodes=250, name='PROTEINS')"
   ]
  },
  {
   "cell_type": "code",
   "execution_count": 6,
   "metadata": {
    "colab": {
     "base_uri": "https://localhost:8080/",
     "height": 350
    },
    "id": "lFUT13K9AhC-",
    "outputId": "5136613f-8dae-44de-f34d-fb7790cc248c"
   },
   "outputs": [
    {
     "name": "stdout",
     "output_type": "stream",
     "text": [
      "Loading graph dataset: Peking_1\n",
      "Loaded and the total number of graphs are  7\n",
      "max num of nodes is  134\n",
      "total graphs  7\n",
      "histogram of number of nodes in  Peking_1\n"
     ]
    },
    {
     "data": {
      "image/png": "[encoded data removed]",
      "text/plain": [
       "<Figure size 432x288 with 1 Axes>"
      ]
     },
     "metadata": {
      "needs_background": "light",
      "tags": []
     },
     "output_type": "display_data"
    }
   ],
   "source": [
    "peking = load_graph(min_num_nodes=80, name='Peking_1')"
   ]
  },
  {
   "cell_type": "code",
   "execution_count": 7,
   "metadata": {
    "colab": {
     "base_uri": "https://localhost:8080/",
     "height": 350
    },
    "id": "JWWKtXD9AhC-",
    "outputId": "add149fe-323d-43d9-8d43-8974c29ff036"
   },
   "outputs": [
    {
     "name": "stdout",
     "output_type": "stream",
     "text": [
      "Loading graph dataset: OHSU\n",
      "Loaded and the total number of graphs are  9\n",
      "max num of nodes is  171\n",
      "total graphs  9\n",
      "histogram of number of nodes in  OHSU\n"
     ]
    },
    {
     "data": {
      "image/png": "[encoded data removed]",
      "text/plain": [
       "<Figure size 432x288 with 1 Axes>"
      ]
     },
     "metadata": {
      "needs_background": "light",
      "tags": []
     },
     "output_type": "display_data"
    }
   ],
   "source": [
    "ohsu = load_graph(min_num_nodes=140, name='OHSU')"
   ]
  },
  {
   "cell_type": "code",
   "execution_count": 8,
   "metadata": {
    "colab": {
     "base_uri": "https://localhost:8080/"
    },
    "id": "Na_wCmIYAhC-",
    "outputId": "b07bad4a-8116-49f3-8b99-fc419b7e5425"
   },
   "outputs": [
    {
     "data": {
      "text/plain": [
       "array([0., 0., 0., 0., 0., 0., 0., 1., 1., 1., 1., 1., 1., 1., 2., 2., 2.,\n",
       "       2., 2., 2., 2., 2., 2.])"
      ]
     },
     "execution_count": 8,
     "metadata": {
      "tags": []
     },
     "output_type": "execute_result"
    }
   ],
   "source": [
    "protein_ohsu_kki = proteins+kki+ohsu\n",
    "gt_protein_ohsu_kki = np.zeros(len(proteins)+len(kki)+len(ohsu))\n",
    "gt_protein_ohsu_kki[:len(proteins)] = 0\n",
    "gt_protein_ohsu_kki[len(proteins):len(proteins)+len(kki)] = 1\n",
    "gt_protein_ohsu_kki[len(proteins)+len(kki):] = 2\n",
    "gt_protein_ohsu_kki"
   ]
  },
  {
   "cell_type": "code",
   "execution_count": 9,
   "metadata": {
    "colab": {
     "base_uri": "https://localhost:8080/"
    },
    "id": "Iotzg2xpAhC_",
    "outputId": "24150cd9-ab0e-4d7c-c5ef-c2a648d4a3e4"
   },
   "outputs": [
    {
     "data": {
      "text/plain": [
       "array([0., 0., 0., 0., 0., 0., 0., 1., 2., 2., 2., 2., 2., 2., 2., 2., 2.,\n",
       "       2., 2., 2., 2., 2., 2.])"
      ]
     },
     "execution_count": 9,
     "metadata": {
      "tags": []
     },
     "output_type": "execute_result"
    }
   ],
   "source": [
    "protein_ohsu_peking = proteins+peking+ohsu\n",
    "gt_protein_ohsu_peking = np.zeros(len(proteins)+len(peking)+len(ohsu))\n",
    "gt_protein_ohsu_peking[:len(proteins)] = 0\n",
    "gt_protein_ohsu_peking[len(proteins):len(proteins)+len(peking)] = 1\n",
    "gt_protein_ohsu_peking[len(proteins)+len(peking):] = 2\n",
    "gt_protein_ohsu_peking"
   ]
  },
  {
   "cell_type": "code",
   "execution_count": 10,
   "metadata": {
    "colab": {
     "base_uri": "https://localhost:8080/"
    },
    "id": "Z5juMZ2VAhC_",
    "outputId": "73df638d-509a-44a8-8daf-bbefa6de8978"
   },
   "outputs": [
    {
     "data": {
      "text/plain": [
       "array([0., 0., 0., 0., 0., 0., 0., 1., 1., 1., 1., 1., 1., 1., 2., 2., 2.,\n",
       "       2., 2., 2., 2.])"
      ]
     },
     "execution_count": 10,
     "metadata": {
      "tags": []
     },
     "output_type": "execute_result"
    }
   ],
   "source": [
    "protein_kki_peking = proteins+peking+kki\n",
    "gt_protein_kki_peking = np.zeros(len(proteins)+len(peking)+len(kki))\n",
    "gt_protein_kki_peking[:len(proteins)] = 0\n",
    "gt_protein_kki_peking[len(proteins):len(proteins)+len(peking)] = 1\n",
    "gt_protein_kki_peking[len(proteins)+len(peking):] = 2\n",
    "gt_protein_kki_peking"
   ]
  },
  {
   "cell_type": "code",
   "execution_count": 11,
   "metadata": {
    "colab": {
     "base_uri": "https://localhost:8080/"
    },
    "id": "1_llpHEfAhDA",
    "outputId": "dbe4c765-0845-4a76-e26c-465e7e0afbc1"
   },
   "outputs": [
    {
     "data": {
      "text/plain": [
       "array([0., 0., 0., 0., 0., 0., 0., 0., 0., 1., 1., 1., 1., 1., 1., 1., 2.,\n",
       "       2., 2., 2., 2., 2., 2.])"
      ]
     },
     "execution_count": 11,
     "metadata": {
      "tags": []
     },
     "output_type": "execute_result"
    }
   ],
   "source": [
    "ohsu_kki_peking = ohsu+peking+kki\n",
    "gt_ohsu_kki_peking = np.zeros(len(ohsu)+len(peking)+len(kki))\n",
    "gt_ohsu_kki_peking[:len(ohsu)] = 0\n",
    "gt_ohsu_kki_peking[len(ohsu):len(ohsu)+len(peking)] = 1\n",
    "gt_ohsu_kki_peking[len(ohsu)+len(peking):] = 2\n",
    "gt_ohsu_kki_peking"
   ]
  },
  {
   "cell_type": "code",
   "execution_count": 12,
   "metadata": {
    "colab": {
     "base_uri": "https://localhost:8080/"
    },
    "id": "XTWvc3SAAhDA",
    "outputId": "fe8fe83d-95a7-4167-9ab7-1cedcce5f709"
   },
   "outputs": [
    {
     "data": {
      "text/plain": [
       "array([0., 0., 0., 0., 0., 0., 0., 1., 1., 1., 1., 1., 1., 1., 2., 2., 2.,\n",
       "       2., 2., 2., 2., 2., 2., 2., 2., 2., 2., 2., 2., 2.])"
      ]
     },
     "execution_count": 12,
     "metadata": {
      "tags": []
     },
     "output_type": "execute_result"
    }
   ],
   "source": [
    "protein_ohsu_kki_peking = proteins+kki+ohsu+peking\n",
    "gt_protein_ohsu_kki_peking = np.zeros(len(proteins)+len(kki)+len(ohsu)+len(peking))\n",
    "gt_protein_ohsu_kki_peking[:len(proteins)] = 0\n",
    "gt_protein_ohsu_kki_peking[len(proteins):len(proteins)+len(kki)] = 1\n",
    "gt_protein_ohsu_kki_peking[len(proteins)+len(kki):len(proteins)+len(kki)+len(ohsu)] = 2\n",
    "gt_protein_ohsu_kki_peking[len(proteins)+len(kki)+len(ohsu):] = 2\n",
    "gt_protein_ohsu_kki_peking"
   ]
  },
  {
   "cell_type": "code",
   "execution_count": 13,
   "metadata": {
    "colab": {
     "base_uri": "https://localhost:8080/",
     "height": 350
    },
    "id": "gXm6frgnAhDA",
    "outputId": "3ad6c90a-45a4-40be-b367-23af7bec2864"
   },
   "outputs": [
    {
     "name": "stdout",
     "output_type": "stream",
     "text": [
      "Loading graph dataset: facebook_ct1\n",
      "Loaded and the total number of graphs are  350\n",
      "max num of nodes is  100\n",
      "total graphs  350\n",
      "histogram of number of nodes in  facebook_ct1\n"
     ]
    },
    {
     "data": {
      "image/png": "[encoded data removed]",
      "text/plain": [
       "<Figure size 432x288 with 1 Axes>"
      ]
     },
     "metadata": {
      "needs_background": "light",
      "tags": []
     },
     "output_type": "display_data"
    }
   ],
   "source": [
    "fb = load_graph(min_num_nodes=100, name='facebook_ct1')\n",
    "fb = fb[:10]"
   ]
  },
  {
   "cell_type": "code",
   "execution_count": 14,
   "metadata": {
    "colab": {
     "base_uri": "https://localhost:8080/",
     "height": 350
    },
    "id": "momFI362AhDB",
    "outputId": "ed2ec27d-e1a2-4f34-f0e9-564ea2e053e9"
   },
   "outputs": [
    {
     "name": "stdout",
     "output_type": "stream",
     "text": [
      "Loading graph dataset: github_stargazers\n",
      "Loaded and the total number of graphs are  8\n",
      "max num of nodes is  957\n",
      "total graphs  8\n",
      "histogram of number of nodes in  github_stargazers\n"
     ]
    },
    {
     "data": {
      "image/png": "[encoded data removed]",
      "text/plain": [
       "<Figure size 432x288 with 1 Axes>"
      ]
     },
     "metadata": {
      "needs_background": "light",
      "tags": []
     },
     "output_type": "display_data"
    }
   ],
   "source": [
    "github = load_graph(min_num_nodes=950, name='github_stargazers')"
   ]
  },
  {
   "cell_type": "code",
   "execution_count": 15,
   "metadata": {
    "colab": {
     "base_uri": "https://localhost:8080/",
     "height": 350
    },
    "id": "mUP2myyBAhDB",
    "outputId": "2ef9d3a9-9305-49e5-a6d5-1798495b2965"
   },
   "outputs": [
    {
     "name": "stdout",
     "output_type": "stream",
     "text": [
      "Loading graph dataset: deezer_ego_nets\n",
      "Loaded and the total number of graphs are  10\n",
      "max num of nodes is  363\n",
      "total graphs  10\n",
      "histogram of number of nodes in  deezer_ego_nets\n"
     ]
    },
    {
     "data": {
      "image/png": "[encoded data removed]",
      "text/plain": [
       "<Figure size 432x288 with 1 Axes>"
      ]
     },
     "metadata": {
      "needs_background": "light",
      "tags": []
     },
     "output_type": "display_data"
    }
   ],
   "source": [
    "deezer = load_graph(min_num_nodes = 200, name = 'deezer_ego_nets')"
   ]
  },
  {
   "cell_type": "code",
   "execution_count": 16,
   "metadata": {
    "colab": {
     "base_uri": "https://localhost:8080/",
     "height": 350
    },
    "id": "ST1r-piwAhDB",
    "outputId": "11978689-fc59-4fa1-f77e-539548a137d8"
   },
   "outputs": [
    {
     "name": "stdout",
     "output_type": "stream",
     "text": [
      "Loading graph dataset: REDDIT-BINARY\n",
      "Loaded and the total number of graphs are  12\n",
      "max num of nodes is  3782\n",
      "total graphs  12\n",
      "histogram of number of nodes in  REDDIT-BINARY\n"
     ]
    },
    {
     "data": {
      "image/png": "[encoded data removed]",
      "text/plain": [
       "<Figure size 432x288 with 1 Axes>"
      ]
     },
     "metadata": {
      "needs_background": "light",
      "tags": []
     },
     "output_type": "display_data"
    }
   ],
   "source": [
    "reddit = load_graph(min_num_nodes=3200, name='REDDIT-BINARY')"
   ]
  },
  {
   "cell_type": "code",
   "execution_count": 17,
   "metadata": {
    "colab": {
     "base_uri": "https://localhost:8080/"
    },
    "id": "Qq3BizecAhDB",
    "outputId": "e7d32b0f-4529-4406-fb11-e101ff383b71"
   },
   "outputs": [
    {
     "data": {
      "text/plain": [
       "array([0., 0., 0., 0., 0., 0., 0., 0., 0., 0., 1., 1., 1., 1., 1., 1., 1.,\n",
       "       1., 2., 2., 2., 2., 2., 2., 2., 2., 2., 2., 2., 2.])"
      ]
     },
     "execution_count": 17,
     "metadata": {
      "tags": []
     },
     "output_type": "execute_result"
    }
   ],
   "source": [
    "fb_github_reddit = fb + github + reddit\n",
    "gt_fb_github_reddit = np.zeros(len(fb)+len(github)+len(reddit))\n",
    "gt_fb_github_reddit[:len(fb)] = 0\n",
    "gt_fb_github_reddit[len(fb):len(fb)+len(github)] = 1\n",
    "gt_fb_github_reddit[len(fb)+len(github):] = 2\n",
    "gt_fb_github_reddit"
   ]
  },
  {
   "cell_type": "code",
   "execution_count": 18,
   "metadata": {
    "colab": {
     "base_uri": "https://localhost:8080/"
    },
    "id": "b4V5wEEKAhDC",
    "outputId": "0e845018-a3b6-4320-fea7-cb63aa28698d"
   },
   "outputs": [
    {
     "data": {
      "text/plain": [
       "array([0., 0., 0., 0., 0., 0., 0., 0., 0., 0., 1., 1., 1., 1., 1., 1., 1.,\n",
       "       1., 2., 2., 2., 2., 2., 2., 2., 2., 2., 2.])"
      ]
     },
     "execution_count": 18,
     "metadata": {
      "tags": []
     },
     "output_type": "execute_result"
    }
   ],
   "source": [
    "fb_github_deezer = fb + github + deezer\n",
    "gt_fb_github_deezer = np.zeros(len(fb)+len(github)+len(deezer))\n",
    "gt_fb_github_deezer[:len(fb)] = 0\n",
    "gt_fb_github_deezer[len(fb):len(fb)+len(github)] = 1\n",
    "gt_fb_github_deezer[len(fb)+len(github):]=2\n",
    "gt_fb_github_deezer"
   ]
  },
  {
   "cell_type": "code",
   "execution_count": 19,
   "metadata": {
    "colab": {
     "base_uri": "https://localhost:8080/"
    },
    "id": "pNgE24D7AhDC",
    "outputId": "2b07e393-a079-48ef-8af8-e6f1d000705e"
   },
   "outputs": [
    {
     "data": {
      "text/plain": [
       "array([0., 0., 0., 0., 0., 0., 0., 0., 0., 0., 1., 1., 1., 1., 1., 1., 1.,\n",
       "       1., 1., 1., 1., 1., 2., 2., 2., 2., 2., 2., 2., 2., 2., 2.])"
      ]
     },
     "execution_count": 19,
     "metadata": {
      "tags": []
     },
     "output_type": "execute_result"
    }
   ],
   "source": [
    "fb_reddit_deezer = fb + reddit + deezer\n",
    "gt_fb_reddit_deezer = np.zeros(len(fb)+len(reddit)+len(deezer))\n",
    "gt_fb_reddit_deezer[:len(fb)] = 0\n",
    "gt_fb_reddit_deezer[len(fb):len(fb)+len(reddit)] = 1\n",
    "gt_fb_reddit_deezer[len(fb)+len(reddit):]=2\n",
    "gt_fb_reddit_deezer"
   ]
  },
  {
   "cell_type": "code",
   "execution_count": 20,
   "metadata": {
    "colab": {
     "base_uri": "https://localhost:8080/"
    },
    "id": "3GzxPT5fAhDD",
    "outputId": "14dcbcf0-3e97-47e6-936c-45beff7ae8de"
   },
   "outputs": [
    {
     "data": {
      "text/plain": [
       "array([0., 0., 0., 0., 0., 0., 0., 0., 1., 1., 1., 1., 1., 1., 1., 1., 1.,\n",
       "       1., 1., 1., 2., 2., 2., 2., 2., 2., 2., 2., 2., 2.])"
      ]
     },
     "execution_count": 20,
     "metadata": {
      "tags": []
     },
     "output_type": "execute_result"
    }
   ],
   "source": [
    "github_reddit_deezer = github + reddit + deezer\n",
    "gt_github_reddit_deezer = np.zeros(len(github)+len(reddit)+len(deezer))\n",
    "gt_github_reddit_deezer[:len(github)] = 0\n",
    "gt_github_reddit_deezer[len(github):len(github)+len(reddit)] = 1\n",
    "gt_github_reddit_deezer[len(github)+len(reddit):]=2\n",
    "gt_github_reddit_deezer"
   ]
  },
  {
   "cell_type": "code",
   "execution_count": 21,
   "metadata": {
    "colab": {
     "base_uri": "https://localhost:8080/"
    },
    "id": "HvlsS1QEAhDD",
    "outputId": "a9c56183-0f95-4a09-a317-7804c686e36b"
   },
   "outputs": [
    {
     "data": {
      "text/plain": [
       "array([0., 0., 0., 0., 0., 0., 0., 0., 0., 0., 1., 1., 1., 1., 1., 1., 1.,\n",
       "       1., 2., 2., 2., 2., 2., 2., 2., 2., 2., 2., 2., 2., 3., 3., 3., 3.,\n",
       "       3., 3., 3., 3., 3., 3.])"
      ]
     },
     "execution_count": 21,
     "metadata": {
      "tags": []
     },
     "output_type": "execute_result"
    }
   ],
   "source": [
    "fb_github_reddit_deezer = fb + github + reddit + deezer\n",
    "gt_fb_github_reddit_deezer = np.zeros(len(fb)+len(github)+len(reddit)+len(deezer))\n",
    "gt_fb_github_reddit_deezer[:len(fb)] = 0\n",
    "gt_fb_github_reddit_deezer[len(fb):len(fb)+len(github)] = 1\n",
    "gt_fb_github_reddit_deezer[len(fb)+len(github):len(fb)+len(github)+len(reddit)] = 2\n",
    "gt_fb_github_reddit_deezer[len(fb)+len(github)+len(reddit):]=3\n",
    "gt_fb_github_reddit_deezer"
   ]
  },
  {
   "cell_type": "markdown",
   "metadata": {
    "id": "z3NaTr9PAhDD"
   },
   "source": [
    "## Evaluate algorithms - real data\n",
    "\n",
    "* pass `graphs='dataset_combination'`, `gt='gt_dataset_combination'`, `num_clusters=3 or 4` depending on the dataset combination in each of the following algorithm evaluation to get the reported result"
   ]
  },
  {
   "cell_type": "code",
   "execution_count": 22,
   "metadata": {
    "colab": {
     "base_uri": "https://localhost:8080/"
    },
    "id": "kYO-6j5NBdxn",
    "outputId": "8ec3c867-5fa5-4a1a-bb9f-61d236078053"
   },
   "outputs": [
    {
     "name": "stdout",
     "output_type": "stream",
     "text": [
      "NCLM: err and ari  [0.26086956521739135] [0.443956043956044]\n"
     ]
    },
    {
     "name": "stderr",
     "output_type": "stream",
     "text": [
      "/usr/local/lib/python3.7/dist-packages/sklearn/utils/linear_assignment_.py:128: FutureWarning: The linear_assignment function is deprecated in 0.21 and will be removed from 0.23. Use scipy.optimize.linear_sum_assignment instead.\n",
      "  FutureWarning)\n"
     ]
    }
   ],
   "source": [
    "err, ari = simulate_nclm(graphs=protein_ohsu_kki, gt=gt_protein_ohsu_kki,j=[8],num_clusters=3)\n",
    "print('NCLM: err and ari ', err,ari)"
   ]
  },
  {
   "cell_type": "code",
   "execution_count": 23,
   "metadata": {
    "colab": {
     "base_uri": "https://localhost:8080/"
    },
    "id": "5zWef5DqB2OG",
    "outputId": "142c73ff-e093-4d01-9fc1-bce39dfd4b6e"
   },
   "outputs": [
    {
     "name": "stderr",
     "output_type": "stream",
     "text": [
      "/usr/local/lib/python3.7/dist-packages/sklearn/utils/linear_assignment_.py:128: FutureWarning: The linear_assignment function is deprecated in 0.21 and will be removed from 0.23. Use scipy.optimize.linear_sum_assignment instead.\n",
      "  FutureWarning)\n"
     ]
    },
    {
     "name": "stdout",
     "output_type": "stream",
     "text": [
      "spec error for sigma  30 5 0.08695652173913049\n",
      "err, ari spect   [0.04347826] [0.8624551484179623]\n",
      "error sdp all sigmas  [[0.08695652173913049]]\n",
      "rand idx all sigmas  [[0.7405128205128205]]\n",
      "DSC (ours) err, ari  [0.04347826] [0.8624551484179623]\n",
      "SSDP (ours) err, ari  [[0.08695652173913049]] [[0.7405128205128205]]\n"
     ]
    },
    {
     "name": "stderr",
     "output_type": "stream",
     "text": [
      "/usr/local/lib/python3.7/dist-packages/sklearn/utils/linear_assignment_.py:128: FutureWarning: The linear_assignment function is deprecated in 0.21 and will be removed from 0.23. Use scipy.optimize.linear_sum_assignment instead.\n",
      "  FutureWarning)\n"
     ]
    }
   ],
   "source": [
    "err_spect, err_sdp, ari_spect, ari_sdp = simulate_histogram(graphs=protein_ohsu_kki,gt=gt_protein_ohsu_kki,check_n0=[30],sigma=[5],num_clusters=3)\n",
    "print('DSC (ours) err, ari ', err_spect, ari_spect)\n",
    "print('SSDP (ours) err, ari ', err_sdp, ari_sdp)"
   ]
  },
  {
   "cell_type": "code",
   "execution_count": 24,
   "metadata": {
    "colab": {
     "base_uri": "https://localhost:8080/"
    },
    "id": "bmtT013M2FfR",
    "outputId": "a5c91590-a78b-4cdc-832c-6f0cae046147"
   },
   "outputs": [
    {
     "name": "stdout",
     "output_type": "stream",
     "text": [
      "No label attributed to graphs, use degree instead and use CONTINUOUS propagation scheme.\n"
     ]
    },
    {
     "name": "stderr",
     "output_type": "stream",
     "text": [
      "/usr/local/lib/python3.7/dist-packages/numpy/core/_asarray.py:83: VisibleDeprecationWarning: Creating an ndarray from ragged nested sequences (which is a list-or-tuple of lists-or-tuples-or ndarrays with different lengths or shapes) is deprecated. If you meant to do this, you must specify 'dtype=object' when creating the ndarray\n",
      "  return array(a, dtype, copy=False, order=order)\n"
     ]
    },
    {
     "name": "stdout",
     "output_type": "stream",
     "text": [
      "wwl error  0.30434782608695654\n",
      "wwl rand idx   0.3628134467277439\n",
      "WWLGK err, ari  0.30434782608695654 0.3628134467277439\n"
     ]
    },
    {
     "name": "stderr",
     "output_type": "stream",
     "text": [
      "/usr/local/lib/python3.7/dist-packages/sklearn/utils/linear_assignment_.py:128: FutureWarning: The linear_assignment function is deprecated in 0.21 and will be removed from 0.23. Use scipy.optimize.linear_sum_assignment instead.\n",
      "  FutureWarning)\n"
     ]
    }
   ],
   "source": [
    "err, ari = simulate_wwlgk(graphs_tensor=protein_ohsu_kki, gt=gt_protein_ohsu_kki,num_clusters=3)\n",
    "print('WWLGK err, ari ',err, ari)"
   ]
  },
  {
   "cell_type": "code",
   "execution_count": 25,
   "metadata": {
    "colab": {
     "base_uri": "https://localhost:8080/"
    },
    "id": "vJtQf7Tq2ybh",
    "outputId": "602d4b8d-47a4-42a8-9ffd-a55f66e129df"
   },
   "outputs": [
    {
     "name": "stdout",
     "output_type": "stream",
     "text": [
      "skipped graphs  []\n",
      "reduced graphs  23 torch.Size([336, 3])\n"
     ]
    },
    {
     "name": "stderr",
     "output_type": "stream",
     "text": [
      "/usr/local/lib/python3.7/dist-packages/ot/bregman.py:363: RuntimeWarning: divide by zero encountered in true_divide\n",
      "  v = np.divide(b, KtransposeU)\n",
      "/usr/local/lib/python3.7/dist-packages/ot/bregman.py:363: RuntimeWarning: overflow encountered in true_divide\n",
      "  v = np.divide(b, KtransposeU)\n"
     ]
    },
    {
     "name": "stdout",
     "output_type": "stream",
     "text": [
      "Warning: numerical errors at iteration 0\n",
      "Warning: numerical errors at iteration 0\n",
      "Warning: numerical errors at iteration 0\n",
      "Warning: numerical errors at iteration 0\n",
      "Warning: numerical errors at iteration 0\n",
      "Warning: numerical errors at iteration 0\n",
      "Warning: numerical errors at iteration 0\n",
      "Warning: numerical errors at iteration 0\n",
      "Warning: numerical errors at iteration 0\n",
      "Warning: numerical errors at iteration 0\n",
      "Warning: numerical errors at iteration 0\n",
      "Warning: numerical errors at iteration 0\n",
      "Warning: numerical errors at iteration 0\n",
      "Warning: numerical errors at iteration 0\n",
      "Warning: numerical errors at iteration 0\n",
      "Warning: numerical errors at iteration 0\n",
      "Warning: numerical errors at iteration 0\n",
      "Warning: numerical errors at iteration 0\n",
      "Warning: numerical errors at iteration 0\n",
      "Warning: numerical errors at iteration 0\n",
      "Warning: numerical errors at iteration 0\n",
      "Warning: numerical errors at iteration 0\n",
      "Warning: numerical errors at iteration 0\n",
      "Warning: numerical errors at iteration 0\n",
      "Warning: numerical errors at iteration 0\n",
      "Warning: numerical errors at iteration 0\n",
      "Warning: numerical errors at iteration 0\n",
      "Warning: numerical errors at iteration 0\n",
      "Warning: numerical errors at iteration 0\n",
      "Warning: numerical errors at iteration 0\n",
      "Warning: numerical errors at iteration 0\n",
      "Warning: numerical errors at iteration 0\n",
      "Warning: numerical errors at iteration 0\n",
      "Warning: numerical errors at iteration 0\n",
      "Warning: numerical errors at iteration 0\n",
      "Warning: numerical errors at iteration 0\n",
      "Warning: numerical errors at iteration 0\n",
      "Warning: numerical errors at iteration 0\n",
      "Warning: numerical errors at iteration 0\n",
      "Warning: numerical errors at iteration 0\n",
      "Warning: numerical errors at iteration 0\n",
      "Warning: numerical errors at iteration 0\n",
      "Warning: numerical errors at iteration 0\n",
      "Warning: numerical errors at iteration 0\n",
      "Warning: numerical errors at iteration 0\n",
      "Warning: numerical errors at iteration 0\n",
      "Warning: numerical errors at iteration 0\n"
     ]
    },
    {
     "name": "stderr",
     "output_type": "stream",
     "text": [
      "/usr/local/lib/python3.7/dist-packages/ot/bregman.py:364: RuntimeWarning: divide by zero encountered in true_divide\n",
      "  u = 1. / np.dot(Kp, v)\n"
     ]
    },
    {
     "name": "stdout",
     "output_type": "stream",
     "text": [
      "Warning: numerical errors at iteration 0\n",
      "Warning: numerical errors at iteration 0\n",
      "Warning: numerical errors at iteration 0\n",
      "Warning: numerical errors at iteration 0\n",
      "Warning: numerical errors at iteration 0\n",
      "Warning: numerical errors at iteration 0\n",
      "Warning: numerical errors at iteration 0\n",
      "Warning: numerical errors at iteration 0\n",
      "Warning: numerical errors at iteration 0\n",
      "Warning: numerical errors at iteration 0\n",
      "Warning: numerical errors at iteration 0\n",
      "Warning: numerical errors at iteration 0\n",
      "Warning: numerical errors at iteration 0\n",
      "Warning: numerical errors at iteration 0\n",
      "Warning: numerical errors at iteration 0\n",
      "Warning: numerical errors at iteration 0\n",
      "Warning: numerical errors at iteration 0\n",
      "Warning: numerical errors at iteration 0\n",
      "Warning: numerical errors at iteration 0\n",
      "Warning: numerical errors at iteration 0\n",
      "Warning: numerical errors at iteration 0\n",
      "Warning: numerical errors at iteration 0\n",
      "Warning: numerical errors at iteration 0\n",
      "Warning: numerical errors at iteration 0\n",
      "Warning: numerical errors at iteration 0\n",
      "Warning: numerical errors at iteration 0\n",
      "Warning: numerical errors at iteration 0\n",
      "Warning: numerical errors at iteration 0\n",
      "Warning: numerical errors at iteration 0\n",
      "Warning: numerical errors at iteration 0\n",
      "Warning: numerical errors at iteration 0\n",
      "Warning: numerical errors at iteration 0\n",
      "Warning: numerical errors at iteration 0\n",
      "Warning: numerical errors at iteration 0\n",
      "Warning: numerical errors at iteration 0\n",
      "Warning: numerical errors at iteration 0\n",
      "Warning: numerical errors at iteration 0\n",
      "Warning: numerical errors at iteration 0\n",
      "Warning: numerical errors at iteration 0\n",
      "Warning: numerical errors at iteration 0\n",
      "Warning: numerical errors at iteration 0\n",
      "Warning: numerical errors at iteration 0\n",
      "Warning: numerical errors at iteration 0\n",
      "Warning: numerical errors at iteration 0\n",
      "Warning: numerical errors at iteration 0\n",
      "Warning: numerical errors at iteration 0\n",
      "Warning: numerical errors at iteration 0\n",
      "Warning: numerical errors at iteration 0\n",
      "Warning: numerical errors at iteration 0\n",
      "Warning: numerical errors at iteration 0\n",
      "Warning: numerical errors at iteration 0\n",
      "Warning: numerical errors at iteration 0\n",
      "Warning: numerical errors at iteration 0\n",
      "Warning: numerical errors at iteration 0\n",
      "Warning: numerical errors at iteration 0\n",
      "Warning: numerical errors at iteration 0\n",
      "Warning: numerical errors at iteration 0\n",
      "Warning: numerical errors at iteration 0\n",
      "Warning: numerical errors at iteration 0\n",
      "Warning: numerical errors at iteration 0\n",
      "Warning: numerical errors at iteration 0\n",
      "Warning: numerical errors at iteration 0\n",
      "Warning: numerical errors at iteration 0\n",
      "Warning: numerical errors at iteration 0\n",
      "Warning: numerical errors at iteration 0\n",
      "Warning: numerical errors at iteration 0\n",
      "Warning: numerical errors at iteration 0\n",
      "Warning: numerical errors at iteration 0\n",
      "Warning: numerical errors at iteration 0\n",
      "Warning: numerical errors at iteration 0\n",
      "Warning: numerical errors at iteration 0\n",
      "Warning: numerical errors at iteration 0\n",
      "Warning: numerical errors at iteration 0\n",
      "Warning: numerical errors at iteration 0\n",
      "Warning: numerical errors at iteration 0\n",
      "Warning: numerical errors at iteration 0\n",
      "Warning: numerical errors at iteration 0\n",
      "Warning: numerical errors at iteration 0\n",
      "Warning: numerical errors at iteration 0\n",
      "Warning: numerical errors at iteration 0\n",
      "Warning: numerical errors at iteration 0\n",
      "Warning: numerical errors at iteration 0\n",
      "Warning: numerical errors at iteration 0\n",
      "Warning: numerical errors at iteration 0\n",
      "Warning: numerical errors at iteration 0\n",
      "Warning: numerical errors at iteration 0\n",
      "Warning: numerical errors at iteration 0\n",
      "Warning: numerical errors at iteration 0\n",
      "Warning: numerical errors at iteration 0\n",
      "Warning: numerical errors at iteration 0\n",
      "Warning: numerical errors at iteration 0\n",
      "Warning: numerical errors at iteration 0\n",
      "Warning: numerical errors at iteration 0\n",
      "Warning: numerical errors at iteration 0\n",
      "Warning: numerical errors at iteration 0\n",
      "Warning: numerical errors at iteration 12\n",
      "Warning: numerical errors at iteration 0\n",
      "Warning: numerical errors at iteration 0\n",
      "Warning: numerical errors at iteration 0\n",
      "Warning: numerical errors at iteration 0\n",
      "Warning: numerical errors at iteration 0\n",
      "Warning: numerical errors at iteration 0\n",
      "Warning: numerical errors at iteration 0\n",
      "Warning: numerical errors at iteration 0\n",
      "Warning: numerical errors at iteration 0\n",
      "Warning: numerical errors at iteration 0\n",
      "Warning: numerical errors at iteration 0\n",
      "Warning: numerical errors at iteration 0\n",
      "Warning: numerical errors at iteration 0\n",
      "Warning: numerical errors at iteration 0\n",
      "Warning: numerical errors at iteration 0\n",
      "Warning: numerical errors at iteration 0\n",
      "Warning: numerical errors at iteration 0\n",
      "Warning: numerical errors at iteration 26\n",
      "Warning: numerical errors at iteration 0\n",
      "Warning: numerical errors at iteration 0\n",
      "Warning: numerical errors at iteration 0\n",
      "Warning: numerical errors at iteration 0\n",
      "Warning: numerical errors at iteration 0\n",
      "Warning: numerical errors at iteration 0\n",
      "Warning: numerical errors at iteration 0\n",
      "Warning: numerical errors at iteration 0\n",
      "Warning: numerical errors at iteration 0\n",
      "Warning: numerical errors at iteration 0\n",
      "Warning: numerical errors at iteration 0\n",
      "Warning: numerical errors at iteration 0\n",
      "Warning: numerical errors at iteration 0\n",
      "Warning: numerical errors at iteration 0\n",
      "Warning: numerical errors at iteration 0\n"
     ]
    },
    {
     "name": "stderr",
     "output_type": "stream",
     "text": [
      "/usr/local/lib/python3.7/dist-packages/ot/bregman.py:364: RuntimeWarning: overflow encountered in true_divide\n",
      "  u = 1. / np.dot(Kp, v)\n"
     ]
    },
    {
     "name": "stdout",
     "output_type": "stream",
     "text": [
      "Warning: numerical errors at iteration 0\n",
      "Warning: numerical errors at iteration 0\n",
      "Warning: numerical errors at iteration 0\n",
      "Warning: numerical errors at iteration 0\n",
      "Warning: numerical errors at iteration 0\n",
      "Warning: numerical errors at iteration 0\n",
      "Warning: numerical errors at iteration 0\n",
      "Warning: numerical errors at iteration 0\n",
      "Warning: numerical errors at iteration 0\n",
      "Warning: numerical errors at iteration 0\n",
      "Warning: numerical errors at iteration 0\n",
      "Warning: numerical errors at iteration 0\n",
      "Warning: numerical errors at iteration 0\n",
      "Warning: numerical errors at iteration 0\n",
      "Warning: numerical errors at iteration 0\n",
      "Warning: numerical errors at iteration 0\n",
      "Warning: numerical errors at iteration 0\n",
      "Warning: numerical errors at iteration 0\n",
      "Warning: numerical errors at iteration 0\n",
      "Warning: numerical errors at iteration 0\n",
      "Warning: numerical errors at iteration 0\n",
      "Warning: numerical errors at iteration 0\n",
      "Warning: numerical errors at iteration 0\n",
      "Warning: numerical errors at iteration 0\n",
      "Warning: numerical errors at iteration 0\n",
      "Warning: numerical errors at iteration 0\n",
      "Warning: numerical errors at iteration 0\n",
      "Warning: numerical errors at iteration 0\n",
      "Warning: numerical errors at iteration 0\n",
      "Warning: numerical errors at iteration 0\n",
      "Warning: numerical errors at iteration 0\n",
      "Warning: numerical errors at iteration 0\n",
      "Warning: numerical errors at iteration 0\n",
      "Warning: numerical errors at iteration 0\n",
      "Warning: numerical errors at iteration 0\n",
      "Warning: numerical errors at iteration 0\n",
      "Warning: numerical errors at iteration 0\n",
      "Warning: numerical errors at iteration 0\n",
      "Warning: numerical errors at iteration 0\n",
      "Warning: numerical errors at iteration 0\n",
      "Warning: numerical errors at iteration 0\n",
      "Warning: numerical errors at iteration 0\n",
      "Warning: numerical errors at iteration 0\n",
      "Warning: numerical errors at iteration 0\n",
      "Warning: numerical errors at iteration 0\n",
      "Warning: numerical errors at iteration 0\n",
      "Warning: numerical errors at iteration 0\n",
      "Warning: numerical errors at iteration 0\n",
      "Warning: numerical errors at iteration 0\n",
      "Warning: numerical errors at iteration 0\n",
      "Warning: numerical errors at iteration 0\n",
      "Warning: numerical errors at iteration 0\n",
      "Warning: numerical errors at iteration 0\n",
      "Warning: numerical errors at iteration 0\n",
      "Warning: numerical errors at iteration 0\n",
      "Warning: numerical errors at iteration 0\n",
      "Warning: numerical errors at iteration 0\n",
      "Warning: numerical errors at iteration 0\n",
      "Warning: numerical errors at iteration 0\n",
      "Warning: numerical errors at iteration 0\n",
      "Warning: numerical errors at iteration 0\n",
      "mmd calculated\n",
      "err, ri  0.26086956521739135 0.45932469012679866\n",
      "NCMMD err, ari  [0.26086956521739135] [0.45932469012679866]\n"
     ]
    },
    {
     "name": "stderr",
     "output_type": "stream",
     "text": [
      "/usr/local/lib/python3.7/dist-packages/sklearn/utils/linear_assignment_.py:128: FutureWarning: The linear_assignment function is deprecated in 0.21 and will be removed from 0.23. Use scipy.optimize.linear_sum_assignment instead.\n",
      "  FutureWarning)\n"
     ]
    }
   ],
   "source": [
    "err, ari, _ = simulate_ncmmd(graphs=protein_ohsu_kki, gt=gt_protein_ohsu_kki, rank=[3], num_clusters=3)\n",
    "print('NCMMD err, ari ', err, ari)"
   ]
  },
  {
   "cell_type": "code",
   "execution_count": 26,
   "metadata": {
    "colab": {
     "base_uri": "https://localhost:8080/"
    },
    "id": "r17O3jem4G4K",
    "outputId": "e4390f13-7105-4c24-a3db-160ee30ae16b"
   },
   "outputs": [
    {
     "name": "stdout",
     "output_type": "stream",
     "text": [
      "gram matrix computed!  (23, 23)\n",
      "sc error is  0.26086956521739135\n",
      "sc Rand idx   0.443956043956044\n",
      "GNTK err, ari  0.26086956521739135 0.443956043956044\n"
     ]
    },
    {
     "name": "stderr",
     "output_type": "stream",
     "text": [
      "/usr/local/lib/python3.7/dist-packages/sklearn/utils/linear_assignment_.py:128: FutureWarning: The linear_assignment function is deprecated in 0.21 and will be removed from 0.23. Use scipy.optimize.linear_sum_assignment instead.\n",
      "  FutureWarning)\n"
     ]
    }
   ],
   "source": [
    "err, ari = simulate_gntk(graphs=protein_ohsu_kki, gt=gt_protein_ohsu_kki, num_clusters=3)\n",
    "print('GNTK err, ari ', err, ari)"
   ]
  },
  {
   "cell_type": "markdown",
   "metadata": {
    "id": "1g9xOYBW_YAB"
   },
   "source": [
    "## Evaluate algorithms - simulated data\n",
    "\n",
    "* pass different `graphons` list, change `num_clusters` accordingly.\n",
    "* for demonstration we have set `simulation=1`, change it to 5 or 10 as discussed in the paper.\n",
    "* similarly, change `number_of_graphs` to be generated from each graphon\n",
    "\n"
   ]
  },
  {
   "cell_type": "code",
   "execution_count": 41,
   "metadata": {
    "id": "_543FX9qAhDE"
   },
   "outputs": [],
   "source": [
    "def evaluate_simulated_data(graphons, check_n0=[10], number_of_graphs=10, num_clusters=3, simulation=5):\n",
    "    err_spect = []\n",
    "    err_sdp = []\n",
    "    ri_spect = []\n",
    "    ri_sdp = []\n",
    "    err_nclm = []\n",
    "    ri_nclm = []\n",
    "    err_wwl = []\n",
    "    ri_wwl = []\n",
    "    err_ncmmd = []\n",
    "    ri_ncmmd = []\n",
    "    err_gntk = []\n",
    "    ri_gntk = []\n",
    "    err_ncgmm =[]\n",
    "    ri_ncgmm = []\n",
    "    for i in range(simulation):\n",
    "        print('simulation ', i)\n",
    "        graphs, gt_graphs = data_simulation(graphons, number_of_graphs=number_of_graphs, start=50,stop=100)\n",
    "        err_graphs_spect, err_graphs_sdp, ri_g_spect, ri_g_sdp = simulate_histogram(graphs=graphs, gt=gt_graphs, check_n0=check_n0, sigma=[3], num_clusters=num_clusters)\n",
    "        err_lm, ri_lm = simulate_nclm(graphs, gt_graphs, j=[8], num_clusters=num_clusters)\n",
    "        err_g_wwl, ri_g_wwl = simulate_wwlgk(graphs, gt_graphs, num_clusters=num_clusters)\n",
    "        mmd_err_g, mmd_ri_g, _  = simulate_ncmmd(graphs, gt_graphs, rank=[3], num_clusters=num_clusters)\n",
    "        e_gntk, r_gntk = simulate_gntk(graphs, gt_graphs,num_clusters=num_clusters)\n",
    "        e_ncgmm, r_ncgmm = simulate_nc\n",
    "        err_spect.append(err_graphs_spect)\n",
    "        err_sdp.append(err_graphs_sdp)\n",
    "        ri_spect.append(ri_g_spect)\n",
    "        ri_sdp.append(ri_g_sdp)\n",
    "        err_nclm.append(err_lm)\n",
    "        ri_nclm.append(ri_lm)\n",
    "        err_wwl.append(err_g_wwl)\n",
    "        ri_wwl.append(ri_g_wwl)\n",
    "        err_ncmmd.append(mmd_err_g)\n",
    "        ri_ncmmd.append(mmd_ri_g)\n",
    "        err_gntk.append(e_gntk)\n",
    "        ri_gntk.append(r_gntk)\n",
    "\n",
    "    return err_spect, err_sdp, ri_spect, ri_sdp, err_nclm, ri_nclm, err_wwl, ri_wwl, err_ncmmd, ri_ncmmd, err_gntk, ri_gntk"
   ]
  },
  {
   "cell_type": "code",
   "execution_count": 44,
   "metadata": {
    "colab": {
     "base_uri": "https://localhost:8080/"
    },
    "id": "sOsiJJooAhDF",
    "outputId": "700619b8-938d-41c8-f106-e0cc0f7ea798"
   },
   "outputs": [
    {
     "name": "stdout",
     "output_type": "stream",
     "text": [
      "simulation  0\n",
      "nodes  tensor([54, 68, 61, 78, 59])\n",
      "nodes  tensor([87, 81, 55, 95, 94])\n",
      "nodes  tensor([67, 84, 93, 66, 98])\n",
      "nodes  tensor([86, 60, 67, 76, 72])\n",
      "graphs generated 20\n",
      "true labels  [0.0, 0.0, 0.0, 0.0, 0.0, 1.0, 1.0, 1.0, 1.0, 1.0, 2.0, 2.0, 2.0, 2.0, 2.0, 3.0, 3.0, 3.0, 3.0, 3.0]\n",
      "spec error for sigma  10 3 0.4\n",
      "err, ari spect   [0.3] [0.6149545772187281]\n",
      "error sdp all sigmas  [[0.4]]\n",
      "rand idx all sigmas  [[0.4123711340206186]]\n"
     ]
    },
    {
     "name": "stderr",
     "output_type": "stream",
     "text": [
      "/usr/local/lib/python3.7/dist-packages/sklearn/utils/linear_assignment_.py:128: FutureWarning: The linear_assignment function is deprecated in 0.21 and will be removed from 0.23. Use scipy.optimize.linear_sum_assignment instead.\n",
      "  FutureWarning)\n",
      "/usr/local/lib/python3.7/dist-packages/sklearn/utils/linear_assignment_.py:128: FutureWarning: The linear_assignment function is deprecated in 0.21 and will be removed from 0.23. Use scipy.optimize.linear_sum_assignment instead.\n",
      "  FutureWarning)\n",
      "/usr/local/lib/python3.7/dist-packages/sklearn/utils/linear_assignment_.py:128: FutureWarning: The linear_assignment function is deprecated in 0.21 and will be removed from 0.23. Use scipy.optimize.linear_sum_assignment instead.\n",
      "  FutureWarning)\n",
      "/usr/local/lib/python3.7/dist-packages/numpy/core/_asarray.py:83: VisibleDeprecationWarning: Creating an ndarray from ragged nested sequences (which is a list-or-tuple of lists-or-tuples-or ndarrays with different lengths or shapes) is deprecated. If you meant to do this, you must specify 'dtype=object' when creating the ndarray\n",
      "  return array(a, dtype, copy=False, order=order)\n"
     ]
    },
    {
     "name": "stdout",
     "output_type": "stream",
     "text": [
      "No label attributed to graphs, use degree instead and use CONTINUOUS propagation scheme.\n"
     ]
    },
    {
     "name": "stderr",
     "output_type": "stream",
     "text": [
      "/usr/local/lib/python3.7/dist-packages/sklearn/utils/linear_assignment_.py:128: FutureWarning: The linear_assignment function is deprecated in 0.21 and will be removed from 0.23. Use scipy.optimize.linear_sum_assignment instead.\n",
      "  FutureWarning)\n"
     ]
    },
    {
     "name": "stdout",
     "output_type": "stream",
     "text": [
      "wwl error  0.5\n",
      "wwl rand idx   0.17267267267267267\n",
      "skipped graphs  []\n",
      "reduced graphs  20 torch.Size([54, 3])\n"
     ]
    },
    {
     "name": "stderr",
     "output_type": "stream",
     "text": [
      "/usr/local/lib/python3.7/dist-packages/ot/bregman.py:363: RuntimeWarning: divide by zero encountered in true_divide\n",
      "  v = np.divide(b, KtransposeU)\n",
      "/usr/local/lib/python3.7/dist-packages/ot/bregman.py:363: RuntimeWarning: overflow encountered in true_divide\n",
      "  v = np.divide(b, KtransposeU)\n"
     ]
    },
    {
     "name": "stdout",
     "output_type": "stream",
     "text": [
      "Warning: numerical errors at iteration 0\n",
      "Warning: numerical errors at iteration 0\n",
      "Warning: numerical errors at iteration 0\n",
      "Warning: numerical errors at iteration 0\n",
      "Warning: numerical errors at iteration 0\n",
      "Warning: numerical errors at iteration 0\n",
      "Warning: numerical errors at iteration 0\n",
      "Warning: numerical errors at iteration 0\n",
      "Warning: numerical errors at iteration 0\n",
      "Warning: numerical errors at iteration 0\n",
      "Warning: numerical errors at iteration 19\n",
      "Warning: numerical errors at iteration 10\n",
      "Warning: numerical errors at iteration 0\n",
      "Warning: numerical errors at iteration 0\n",
      "Warning: numerical errors at iteration 0\n",
      "Warning: numerical errors at iteration 0\n",
      "Warning: numerical errors at iteration 0\n",
      "Warning: numerical errors at iteration 0\n",
      "Warning: numerical errors at iteration 0\n",
      "Warning: numerical errors at iteration 0\n",
      "Warning: numerical errors at iteration 0\n",
      "Warning: numerical errors at iteration 11\n",
      "Warning: numerical errors at iteration 0\n",
      "Warning: numerical errors at iteration 0\n",
      "Warning: numerical errors at iteration 0\n",
      "Warning: numerical errors at iteration 0\n",
      "Warning: numerical errors at iteration 0\n",
      "Warning: numerical errors at iteration 0\n",
      "Warning: numerical errors at iteration 0\n",
      "Warning: numerical errors at iteration 0\n",
      "Warning: numerical errors at iteration 0\n",
      "Warning: numerical errors at iteration 1\n",
      "Warning: numerical errors at iteration 0\n",
      "Warning: numerical errors at iteration 0\n",
      "Warning: numerical errors at iteration 0\n",
      "Warning: numerical errors at iteration 48\n",
      "Warning: numerical errors at iteration 0\n",
      "Warning: numerical errors at iteration 0\n",
      "Warning: numerical errors at iteration 0\n",
      "Warning: numerical errors at iteration 0\n",
      "Warning: numerical errors at iteration 0\n",
      "Warning: numerical errors at iteration 0\n",
      "Warning: numerical errors at iteration 0\n",
      "Warning: numerical errors at iteration 0\n",
      "Warning: numerical errors at iteration 0\n",
      "mmd calculated\n"
     ]
    },
    {
     "name": "stderr",
     "output_type": "stream",
     "text": [
      "/usr/local/lib/python3.7/dist-packages/sklearn/utils/linear_assignment_.py:128: FutureWarning: The linear_assignment function is deprecated in 0.21 and will be removed from 0.23. Use scipy.optimize.linear_sum_assignment instead.\n",
      "  FutureWarning)\n",
      "/content/GNTK.py:32: RuntimeWarning: invalid value encountered in true_divide\n",
      "  S = S / diag[:, None] / diag[None, :]\n",
      "/content/GNTK.py:54: RuntimeWarning: invalid value encountered in true_divide\n",
      "  S = S / diag1[:, None] / diag2[None, :]\n"
     ]
    },
    {
     "name": "stdout",
     "output_type": "stream",
     "text": [
      "err, ri  0.35 0.581973030518098\n",
      "gram matrix computed!  (20, 20)\n",
      "sc error is  0.4\n",
      "sc Rand idx   0.33507073715562175\n",
      "avg hist spect  tensor([0.3000]) tensor([0.6150])\n",
      "avg hist sdp  tensor([[0.4000]]) tensor([[0.4124]])\n",
      "avg nclm  tensor([0.3500]) tensor([0.3240])\n",
      "avg wwlgk  tensor(0.5000) tensor(0.1727)\n",
      "avg ncmmd  tensor([0.3500]) tensor([0.5820])\n",
      "avg gntk  tensor(0.4000) tensor(0.3351)\n"
     ]
    },
    {
     "name": "stderr",
     "output_type": "stream",
     "text": [
      "/usr/local/lib/python3.7/dist-packages/sklearn/utils/linear_assignment_.py:128: FutureWarning: The linear_assignment function is deprecated in 0.21 and will be removed from 0.23. Use scipy.optimize.linear_sum_assignment instead.\n",
      "  FutureWarning)\n"
     ]
    }
   ],
   "source": [
    "m_err_g1234_spect, m_err_g1234_sdp, m_ri_g1234_spect, m_ri_g1234_sdp, m_err_lm_g1234, m_ri_lm_g1234, m_err_wwl_g1234, m_ri_wwl_g1234, m_err_fr_g1234, m_ri_fr_g1234, m_err_gntk_g1234, m_ri_gntk_g1234  = evaluate_simulated_data([1,2,3,4], check_n0=[10], number_of_graphs=5, num_clusters=4, simulation=1)\n",
    "print(\"avg hist spect \",torch.mean(torch.Tensor(m_err_g1234_spect),dim=0),torch.mean(torch.Tensor(m_ri_g1234_spect),dim=0))\n",
    "print(\"avg hist sdp \",torch.mean(torch.Tensor(m_err_g1234_sdp),dim=0),torch.mean(torch.Tensor(m_ri_g1234_sdp),dim=0))\n",
    "print(\"avg nclm \",torch.mean(torch.Tensor(m_err_lm_g1234),dim=0),torch.mean(torch.Tensor(m_ri_lm_g1234),dim=0))\n",
    "print(\"avg wwlgk \",torch.mean(torch.Tensor(m_err_wwl_g1234),dim=0),torch.mean(torch.Tensor(m_ri_wwl_g1234),dim=0))\n",
    "print(\"avg ncmmd \",torch.mean(torch.Tensor(m_err_fr_g1234),dim=0),torch.mean(torch.Tensor(m_ri_fr_g1234),dim=0))\n",
    "print(\"avg gntk \",torch.mean(torch.Tensor(m_err_gntk_g1234),dim=0),torch.mean(torch.Tensor(m_ri_gntk_g1234),dim=0))"
   ]
  },
  {
   "cell_type": "markdown",
   "metadata": {
    "id": "9oH3apbyAhDG"
   },
   "source": [
    "## Two-sample testing\n",
    "\n",
    "* pass the graphon pair to be tested for `graphon1` and `graphon2` \n",
    "* increase `bootstrap=100` (order of 100) and `trials=200` "
   ]
  },
  {
   "cell_type": "code",
   "execution_count": 30,
   "metadata": {
    "colab": {
     "base_uri": "https://localhost:8080/"
    },
    "id": "dGEkC5lSAhDG",
    "outputId": "bed0aa80-4e66-4c03-bb16-bde962d8c4fe"
   },
   "outputs": [
    {
     "name": "stdout",
     "output_type": "stream",
     "text": [
      "trial  0\n",
      "Solution found after 2 iterations:\n",
      "    objective function f(sol) = 3.684542e+01\n",
      "    stopping criterion: RTOL\n",
      "Solution found after 2 iterations:\n",
      "    objective function f(sol) = 1.678336e+02\n",
      "    stopping criterion: RTOL\n",
      "T between graphs  tensor(0.2968, dtype=torch.float64)\n",
      "p estimated  tensor(0.) tensor(0.0500)\n",
      "p estimated  tensor(0.) tensor(0.0500)\n",
      "p_val  tensor(0.0500)\n",
      "trial  1\n",
      "Solution found after 2 iterations:\n",
      "    objective function f(sol) = 3.627402e+01\n",
      "    stopping criterion: RTOL\n",
      "Solution found after 2 iterations:\n",
      "    objective function f(sol) = 1.662931e+02\n",
      "    stopping criterion: RTOL\n",
      "T between graphs  tensor(0.2891, dtype=torch.float64)\n",
      "p estimated  tensor(0.) tensor(0.0500)\n",
      "p estimated  tensor(0.) tensor(0.0500)\n",
      "p_val  tensor(0.0500)\n",
      "trial  2\n",
      "Solution found after 2 iterations:\n",
      "    objective function f(sol) = 4.068187e+01\n",
      "    stopping criterion: RTOL\n",
      "Solution found after 2 iterations:\n",
      "    objective function f(sol) = 1.743703e+02\n",
      "    stopping criterion: RTOL\n",
      "T between graphs  tensor(0.2859, dtype=torch.float64)\n",
      "p estimated  tensor(0.) tensor(0.0500)\n",
      "p estimated  tensor(0.) tensor(0.0500)\n",
      "p_val  tensor(0.0500)\n",
      "trial  3\n",
      "Solution found after 2 iterations:\n",
      "    objective function f(sol) = 4.088606e+01\n",
      "    stopping criterion: RTOL\n",
      "Solution found after 2 iterations:\n",
      "    objective function f(sol) = 1.725303e+02\n",
      "    stopping criterion: RTOL\n",
      "T between graphs  tensor(0.2939, dtype=torch.float64)\n",
      "p estimated  tensor(0.) tensor(0.0500)\n",
      "p estimated  tensor(0.) tensor(0.0500)\n",
      "p_val  tensor(0.0500)\n",
      "trial  4\n",
      "Solution found after 2 iterations:\n",
      "    objective function f(sol) = 4.058257e+01\n",
      "    stopping criterion: RTOL\n",
      "Solution found after 2 iterations:\n",
      "    objective function f(sol) = 1.727872e+02\n",
      "    stopping criterion: RTOL\n",
      "T between graphs  tensor(0.2369, dtype=torch.float64)\n",
      "p estimated  tensor(0.) tensor(0.0500)\n",
      "p estimated  tensor(0.) tensor(0.0500)\n",
      "p_val  tensor(0.0500)\n",
      "trial  5\n",
      "Solution found after 2 iterations:\n",
      "    objective function f(sol) = 3.516640e+01\n",
      "    stopping criterion: RTOL\n",
      "Solution found after 2 iterations:\n",
      "    objective function f(sol) = 1.692259e+02\n",
      "    stopping criterion: RTOL\n",
      "T between graphs  tensor(0.3254, dtype=torch.float64)\n",
      "p estimated  tensor(0.) tensor(0.0500)\n",
      "p estimated  tensor(0.) tensor(0.0500)\n",
      "p_val  tensor(0.0500)\n",
      "trial  6\n",
      "Solution found after 2 iterations:\n",
      "    objective function f(sol) = 3.049333e+01\n",
      "    stopping criterion: RTOL\n",
      "Solution found after 2 iterations:\n",
      "    objective function f(sol) = 1.683091e+02\n",
      "    stopping criterion: RTOL\n",
      "T between graphs  tensor(0.3310, dtype=torch.float64)\n",
      "p estimated  tensor(0.) tensor(0.0500)\n",
      "p estimated  tensor(0.) tensor(0.0500)\n",
      "p_val  tensor(0.0500)\n",
      "trial  7\n",
      "Solution found after 2 iterations:\n",
      "    objective function f(sol) = 3.820020e+01\n",
      "    stopping criterion: RTOL\n",
      "Solution found after 2 iterations:\n",
      "    objective function f(sol) = 1.681322e+02\n",
      "    stopping criterion: RTOL\n",
      "T between graphs  tensor(0.2422, dtype=torch.float64)\n",
      "p estimated  tensor(0.) tensor(0.0500)\n",
      "p estimated  tensor(0.) tensor(0.0500)\n",
      "p_val  tensor(0.0500)\n",
      "trial  8\n",
      "Solution found after 2 iterations:\n",
      "    objective function f(sol) = 3.858890e+01\n",
      "    stopping criterion: RTOL\n",
      "Solution found after 2 iterations:\n",
      "    objective function f(sol) = 1.733575e+02\n",
      "    stopping criterion: RTOL\n",
      "T between graphs  tensor(0.2959, dtype=torch.float64)\n",
      "p estimated  tensor(0.) tensor(0.0500)\n",
      "p estimated  tensor(0.) tensor(0.0500)\n",
      "p_val  tensor(0.0500)\n",
      "trial  9\n",
      "Solution found after 2 iterations:\n",
      "    objective function f(sol) = 4.000938e+01\n",
      "    stopping criterion: RTOL\n",
      "Solution found after 2 iterations:\n",
      "    objective function f(sol) = 1.687777e+02\n",
      "    stopping criterion: RTOL\n",
      "T between graphs  tensor(0.2769, dtype=torch.float64)\n",
      "p estimated  tensor(0.) tensor(0.0500)\n",
      "p estimated  tensor(0.) tensor(0.0500)\n",
      "p_val  tensor(0.0500)\n",
      "p_values  [tensor(0.0500), tensor(0.0500), tensor(0.0500), tensor(0.0500), tensor(0.0500), tensor(0.0500), tensor(0.0500), tensor(0.0500), tensor(0.0500), tensor(0.0500)]\n",
      "power  tensor(1.)\n"
     ]
    }
   ],
   "source": [
    "#graphon pair (1,2)\n",
    "p,power = bootstraping(graphon1=1,graphon2=2,n=50,m=100,n0=10,bootstrap=10,trials=10,alpha=0.05,s=500)\n",
    "print('p_values ', p)\n",
    "print('power ', power)"
   ]
  },
  {
   "cell_type": "code",
   "execution_count": null,
   "metadata": {
    "id": "OoXTezSJ5QG0"
   },
   "outputs": [],
   "source": []
  }
 ],
 "metadata": {
  "colab": {
   "collapsed_sections": [],
   "name": "graph_clustering.ipynb",
   "provenance": [],
   "toc_visible": true
  },
  "kernelspec": {
   "display_name": "Python 3",
   "language": "python",
   "name": "python3"
  },
  "language_info": {
   "codemirror_mode": {
    "name": "ipython",
    "version": 3
   },
   "file_extension": ".py",
   "mimetype": "text/x-python",
   "name": "python",
   "nbconvert_exporter": "python",
   "pygments_lexer": "ipython3",
   "version": "3.7.6"
  },
  "latex_envs": {
   "LaTeX_envs_menu_present": true,
   "autoclose": false,
   "autocomplete": true,
   "bibliofile": "biblio.bib",
   "cite_by": "apalike",
   "current_citInitial": 1,
   "eqLabelWithNumbers": true,
   "eqNumInitial": 1,
   "hotkeys": {
    "equation": "Ctrl-E",
    "itemize": "Ctrl-I"
   },
   "labels_anchors": false,
   "latex_user_defs": false,
   "report_style_numbering": false,
   "user_envs_cfg": false
  },
  "toc": {
   "base_numbering": 1,
   "nav_menu": {},
   "number_sections": true,
   "sideBar": true,
   "skip_h1_title": false,
   "title_cell": "Table of Contents",
   "title_sidebar": "Contents",
   "toc_cell": false,
   "toc_position": {},
   "toc_section_display": true,
   "toc_window_display": false
  }
 },
 "nbformat": 4,
 "nbformat_minor": 1
}
